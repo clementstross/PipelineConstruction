{
 "metadata": {
  "language_info": {
   "codemirror_mode": {
    "name": "ipython",
    "version": 3
   },
   "file_extension": ".py",
   "mimetype": "text/x-python",
   "name": "python",
   "nbconvert_exporter": "python",
   "pygments_lexer": "ipython3",
   "version": "3.7.6-final"
  },
  "orig_nbformat": 2,
  "kernelspec": {
   "name": "python3",
   "display_name": "Python 3"
  }
 },
 "nbformat": 4,
 "nbformat_minor": 2,
 "cells": [
  {
   "cell_type": "code",
   "execution_count": 21,
   "metadata": {},
   "outputs": [],
   "source": [
    "import pandas as pd\n",
    "import numpy as np\n",
    "import importlib\n",
    "\n",
    "from sklearn.datasets import fetch_california_housing\n",
    "\n",
    "import sys\n",
    "sys.path.append('c:/Users/User/Documents/User/Work/Admiral/Pipeline_Builder/pipelineconstruction/src')"
   ]
  },
  {
   "cell_type": "markdown",
   "metadata": {},
   "source": [
    "# Numeric Encoding\n",
    "\n",
    "The following code will be useful in Numeric Encodings "
   ]
  },
  {
   "cell_type": "code",
   "execution_count": 17,
   "metadata": {},
   "outputs": [],
   "source": [
    "#Read in metadata sheet\n",
    "control_sheet = pd.read_csv(\"../controls/california_housing_control_sheet.csv\")"
   ]
  },
  {
   "cell_type": "markdown",
   "metadata": {},
   "source": [
    "Get sciket learn dataset"
   ]
  },
  {
   "cell_type": "code",
   "execution_count": 18,
   "metadata": {},
   "outputs": [],
   "source": [
    "#Get sciket learn dataset\n",
    "california_housing_data = fetch_california_housing(return_X_y=False)\n",
    "X_df = pd.DataFrame(california_housing_data.data, columns=california_housing_data.feature_names)\n",
    "y = california_housing_data.target\n"
   ]
  },
  {
   "cell_type": "code",
   "execution_count": 19,
   "metadata": {},
   "outputs": [
    {
     "output_type": "execute_result",
     "data": {
      "text/plain": "   MedInc  HouseAge  AveRooms  AveBedrms  Population  AveOccup  Latitude  \\\n0  8.3252      41.0  6.984127   1.023810       322.0  2.555556     37.88   \n1  8.3014      21.0  6.238137   0.971880      2401.0  2.109842     37.86   \n2  7.2574      52.0  8.288136   1.073446       496.0  2.802260     37.85   \n3  5.6431      52.0  5.817352   1.073059       558.0  2.547945     37.85   \n4  3.8462      52.0  6.281853   1.081081       565.0  2.181467     37.85   \n\n   Longitude  \n0    -122.23  \n1    -122.22  \n2    -122.24  \n3    -122.25  \n4    -122.25  ",
      "text/html": "<div>\n<style scoped>\n    .dataframe tbody tr th:only-of-type {\n        vertical-align: middle;\n    }\n\n    .dataframe tbody tr th {\n        vertical-align: top;\n    }\n\n    .dataframe thead th {\n        text-align: right;\n    }\n</style>\n<table border=\"1\" class=\"dataframe\">\n  <thead>\n    <tr style=\"text-align: right;\">\n      <th></th>\n      <th>MedInc</th>\n      <th>HouseAge</th>\n      <th>AveRooms</th>\n      <th>AveBedrms</th>\n      <th>Population</th>\n      <th>AveOccup</th>\n      <th>Latitude</th>\n      <th>Longitude</th>\n    </tr>\n  </thead>\n  <tbody>\n    <tr>\n      <th>0</th>\n      <td>8.3252</td>\n      <td>41.0</td>\n      <td>6.984127</td>\n      <td>1.023810</td>\n      <td>322.0</td>\n      <td>2.555556</td>\n      <td>37.88</td>\n      <td>-122.23</td>\n    </tr>\n    <tr>\n      <th>1</th>\n      <td>8.3014</td>\n      <td>21.0</td>\n      <td>6.238137</td>\n      <td>0.971880</td>\n      <td>2401.0</td>\n      <td>2.109842</td>\n      <td>37.86</td>\n      <td>-122.22</td>\n    </tr>\n    <tr>\n      <th>2</th>\n      <td>7.2574</td>\n      <td>52.0</td>\n      <td>8.288136</td>\n      <td>1.073446</td>\n      <td>496.0</td>\n      <td>2.802260</td>\n      <td>37.85</td>\n      <td>-122.24</td>\n    </tr>\n    <tr>\n      <th>3</th>\n      <td>5.6431</td>\n      <td>52.0</td>\n      <td>5.817352</td>\n      <td>1.073059</td>\n      <td>558.0</td>\n      <td>2.547945</td>\n      <td>37.85</td>\n      <td>-122.25</td>\n    </tr>\n    <tr>\n      <th>4</th>\n      <td>3.8462</td>\n      <td>52.0</td>\n      <td>6.281853</td>\n      <td>1.081081</td>\n      <td>565.0</td>\n      <td>2.181467</td>\n      <td>37.85</td>\n      <td>-122.25</td>\n    </tr>\n  </tbody>\n</table>\n</div>"
     },
     "metadata": {},
     "execution_count": 19
    }
   ],
   "source": [
    "X_df.head()"
   ]
  },
  {
   "source": [
    "# Create pipeline from Metadata"
   ],
   "cell_type": "markdown",
   "metadata": {}
  },
  {
   "cell_type": "code",
   "execution_count": 22,
   "metadata": {},
   "outputs": [],
   "source": [
    "# Import standard functions\n",
    "from sklearn.impute import SimpleImputer\n",
    "from sklearn.compose import ColumnTransformer\n",
    "from sklearn.pipeline import FeatureUnion\n",
    "from sklearn.pipeline import Pipeline\n",
    "from sklearn.impute import MissingIndicator"
   ]
  },
  {
   "cell_type": "code",
   "execution_count": 23,
   "metadata": {
    "tags": []
   },
   "outputs": [],
   "source": [
    "# Import custom functions\n",
    "from transformers.IdentifyUnknowns import IdentifyUnknowns\n",
    "from transformers.NumericCapping import NumericCapping\n"
   ]
  },
  {
   "cell_type": "code",
   "execution_count": 24,
   "metadata": {
    "tags": []
   },
   "outputs": [
    {
     "output_type": "execute_result",
     "data": {
      "text/plain": "<module 'transformers.NumericCapping' from 'c:/Users/User/Documents/User/Work/Admiral/Pipeline_Builder/pipelineconstruction/src\\\\transformers\\\\NumericCapping.py'>"
     },
     "metadata": {},
     "execution_count": 24
    }
   ],
   "source": [
    "importlib.reload(sys.modules[IdentifyUnknowns.__module__])\n",
    "importlib.reload(sys.modules[NumericCapping.__module__])"
   ]
  },
  {
   "cell_type": "code",
   "execution_count": 25,
   "metadata": {
    "tags": []
   },
   "outputs": [],
   "source": [
    "\n",
    "#Check columns exist\n",
    "needed_cols = [\"FeatureName\", \"TransformedName\", \"Include\", \"Raw\", \"Missing_Values\", \\\n",
    "               \"Numeric_Unk_Max\", \"Numeric_Cap_Max\", \"Numeric_Cap_Min\", \"Numeric_Unk_Min\", \\\n",
    "                \"Impute_Strategy\", \"Impute_Value\"]\n",
    "for need_col in needed_cols:\n",
    "    if need_col not in control_sheet.columns:\n",
    "        raise ValueError(f\"{need_col} must be in control_sheet.columns\")\n",
    "\n",
    "# Loop over all columns\n",
    "for ii in range(0, control_sheet.shape[0]):\n",
    "    if ii == 0: # create output list\n",
    "        col_transormer_list = []\n",
    "\n",
    "    # Check values for boolen columns\n",
    "    for check_col in [\"Include\", \"Raw\", \"Shadow_Col\"]:\n",
    "        if control_sheet.iloc[ii][check_col] not in [\"Y\", \"N\", \"\"]:\n",
    "            raise ValueError(f'for feature-{in_feat_ii} column-{check_col} must be in [\"Y\", \"N\", \"\"]. Is  {control_sheet.iloc[ii][check_col]}')\n",
    "\n",
    "    # Only include Features which are to include\n",
    "    if control_sheet.iloc[ii][\"Include\"]==\"Y\" and control_sheet.iloc[ii][\"Raw\"]==\"Y\":\n",
    "        in_feat_ii = control_sheet.iloc[ii][\"FeatureName\"]\n",
    "        out_feat_ii = control_sheet.iloc[ii][\"TransformedName\"]\n",
    "        \n",
    "        # Start with a empy list (no transformations)\n",
    "        feature_union_list = []\n",
    "\n",
    "        # Removing known missings ---------------------------------------------------\n",
    "        # Extract string of know missing\n",
    "        str_unks = control_sheet.iloc[0][\"Missing_Values\"].split(\";\")\n",
    "        num_unks = [float(unk) for unk in str_unks]\n",
    "\n",
    "        # If there are some values of known missings (e.g. -1) add transformer to replace them with NAs\n",
    "        if len(num_unks) > 0:\n",
    "            feature_union_list.append((\"unk_levels\", IdentifyUnknowns(unk_levels=[num_unks])))\n",
    "\n",
    "\n",
    "        # Applying caps and collars to values ---------------------------------------------------\n",
    "        # Read in caps\n",
    "        unk_max = control_sheet.iloc[ii][\"Numeric_Unk_Max\"]\n",
    "        cap_max = control_sheet.iloc[ii][\"Numeric_Cap_Max\"]\n",
    "        cap_min = control_sheet.iloc[ii][\"Numeric_Cap_Min\"]\n",
    "        unk_min = control_sheet.iloc[ii][\"Numeric_Unk_Min\"]\n",
    "        # Cheak if any aren't NA. If so add capping transformer\n",
    "        if unk_max==unk_max or cap_max==cap_max or cap_min==cap_min or cap_max==cap_max: \n",
    "            feature_union_list.append((\"capping\", NumericCapping(unk_max=[unk_max], cap_max=[cap_max], cap_min=[cap_min], unk_min=[unk_min])))\n",
    "\n",
    "        # Impute missing values -------------------------------------------------------\n",
    "        # Impute missing values\n",
    "        Impute_Strategy = control_sheet.iloc[ii][\"Impute_Strategy\"]\n",
    "        impute_value = float(control_sheet.iloc[ii][\"Impute_Value\"])\n",
    "        \n",
    "        # Check value of Impute_Strategy\n",
    "        if Impute_Strategy not in [\"mean\", \"median\", \"most_frequent\", \"constant\"]:\n",
    "            raise ValueError(f'For feature-{in_feat_ii} Impute Stratergy must be in [\"mean\", \"median\", \"most_frequent\", \"constant\"] is {Impute_Strategy}')\n",
    "        # Check constant value given if needed\n",
    "        if Impute_Strategy==\"constant\" and impute_value!=impute_value:\n",
    "            raise ValueError(f'For feature-{in_feat_ii} if Impute Stratergy is \"constant\", impute_value can not be NA.')    \n",
    "\n",
    "        feature_union_list_no_impute = feature_union_list.copy() # needed to get shadow matrix\n",
    "        feature_union_list.append((\"impute\", SimpleImputer(missing_values=np.nan, strategy=Impute_Strategy, fill_value=impute_value)))\n",
    "\n",
    "        # Combine all features -------------------------------------------------------\n",
    "\n",
    "        if control_sheet.iloc[ii][\"Shadow_Col\"]==\"Y\":\n",
    "            # If shadow column needed as second pipeline to give extra column\n",
    "            pre_col_ii = FeatureUnion([(out_feat_ii, Pipeline(feature_union_list)), \\\n",
    "                                       (out_feat_ii + \"_NA\", Pipeline([(out_feat_ii + \"_imp\", Pipeline(feature_union_list_no_impute)), \\\n",
    "                                                                       (out_feat_ii + \"_shadow\", MissingIndicator(missing_values=np.nan, features=\"all\"))]) \\\n",
    "                                       ) \\\n",
    "                                      ])\n",
    "        else:\n",
    "            # If shadow column not needed use existing pipeline\n",
    "            pre_col_ii = Pipeline(feature_union_list)\n",
    "        \n",
    "        # Add column to transformation list\n",
    "        col_transormer_list.append((out_feat_ii, pre_col_ii, [in_feat_ii]))"
   ]
  },
  {
   "cell_type": "code",
   "execution_count": 26,
   "metadata": {},
   "outputs": [
    {
     "output_type": "execute_result",
     "data": {
      "text/plain": "   MedInc  HouseAge  AveRooms  AveBedrms  Population  AveOccup  Latitude  \\\n0  8.3252      41.0  6.984127   1.023810       322.0  2.555556     37.88   \n1  8.3014      21.0  6.238137   0.971880      2401.0  2.109842     37.86   \n2  7.2574      52.0  8.288136   1.073446       496.0  2.802260     37.85   \n3  5.6431      52.0  5.817352   1.073059       558.0  2.547945     37.85   \n4  3.8462      52.0  6.281853   1.081081       565.0  2.181467     37.85   \n\n   Longitude  \n0    -122.23  \n1    -122.22  \n2    -122.24  \n3    -122.25  \n4    -122.25  ",
      "text/html": "<div>\n<style scoped>\n    .dataframe tbody tr th:only-of-type {\n        vertical-align: middle;\n    }\n\n    .dataframe tbody tr th {\n        vertical-align: top;\n    }\n\n    .dataframe thead th {\n        text-align: right;\n    }\n</style>\n<table border=\"1\" class=\"dataframe\">\n  <thead>\n    <tr style=\"text-align: right;\">\n      <th></th>\n      <th>MedInc</th>\n      <th>HouseAge</th>\n      <th>AveRooms</th>\n      <th>AveBedrms</th>\n      <th>Population</th>\n      <th>AveOccup</th>\n      <th>Latitude</th>\n      <th>Longitude</th>\n    </tr>\n  </thead>\n  <tbody>\n    <tr>\n      <th>0</th>\n      <td>8.3252</td>\n      <td>41.0</td>\n      <td>6.984127</td>\n      <td>1.023810</td>\n      <td>322.0</td>\n      <td>2.555556</td>\n      <td>37.88</td>\n      <td>-122.23</td>\n    </tr>\n    <tr>\n      <th>1</th>\n      <td>8.3014</td>\n      <td>21.0</td>\n      <td>6.238137</td>\n      <td>0.971880</td>\n      <td>2401.0</td>\n      <td>2.109842</td>\n      <td>37.86</td>\n      <td>-122.22</td>\n    </tr>\n    <tr>\n      <th>2</th>\n      <td>7.2574</td>\n      <td>52.0</td>\n      <td>8.288136</td>\n      <td>1.073446</td>\n      <td>496.0</td>\n      <td>2.802260</td>\n      <td>37.85</td>\n      <td>-122.24</td>\n    </tr>\n    <tr>\n      <th>3</th>\n      <td>5.6431</td>\n      <td>52.0</td>\n      <td>5.817352</td>\n      <td>1.073059</td>\n      <td>558.0</td>\n      <td>2.547945</td>\n      <td>37.85</td>\n      <td>-122.25</td>\n    </tr>\n    <tr>\n      <th>4</th>\n      <td>3.8462</td>\n      <td>52.0</td>\n      <td>6.281853</td>\n      <td>1.081081</td>\n      <td>565.0</td>\n      <td>2.181467</td>\n      <td>37.85</td>\n      <td>-122.25</td>\n    </tr>\n  </tbody>\n</table>\n</div>"
     },
     "metadata": {},
     "execution_count": 26
    }
   ],
   "source": [
    "X_df.head()"
   ]
  },
  {
   "cell_type": "code",
   "execution_count": 27,
   "metadata": {
    "tags": []
   },
   "outputs": [],
   "source": [
    "col_trans = ColumnTransformer(col_transormer_list)\n",
    "X_out = col_trans.fit_transform(X=X_df)"
   ]
  },
  {
   "cell_type": "code",
   "execution_count": 29,
   "metadata": {},
   "outputs": [
    {
     "output_type": "execute_result",
     "data": {
      "text/plain": "   MedInc  HouseAge  HouseAge_NA  AveRooms  AveRooms_NA  AveBedrms  \\\n0  8.0000      41.0          0.0       3.0          1.0   1.023810   \n1  8.0000      30.0          0.0       3.0          1.0   0.971880   \n2  7.2574      33.0          1.0       3.0          1.0   1.073446   \n3  5.6431      33.0          1.0       3.0          1.0   1.073059   \n4  4.0000      33.0          1.0       3.0          1.0   1.081081   \n\n   AveBedrms_NA  Population  Population_NA  AveOccup  AveOccup_NA  Latitude  \\\n0           0.0       500.0            0.0  2.555556          0.0     37.88   \n1           0.0      2000.0            0.0  2.109842          0.0     37.86   \n2           0.0       500.0            0.0  2.802260          0.0     37.85   \n3           0.0       558.0            0.0  2.547945          0.0     37.85   \n4           0.0       565.0            0.0  2.181467          0.0     37.85   \n\n   Longitude  \n0    -122.23  \n1    -122.22  \n2    -122.24  \n3    -122.25  \n4    -122.25  ",
      "text/html": "<div>\n<style scoped>\n    .dataframe tbody tr th:only-of-type {\n        vertical-align: middle;\n    }\n\n    .dataframe tbody tr th {\n        vertical-align: top;\n    }\n\n    .dataframe thead th {\n        text-align: right;\n    }\n</style>\n<table border=\"1\" class=\"dataframe\">\n  <thead>\n    <tr style=\"text-align: right;\">\n      <th></th>\n      <th>MedInc</th>\n      <th>HouseAge</th>\n      <th>HouseAge_NA</th>\n      <th>AveRooms</th>\n      <th>AveRooms_NA</th>\n      <th>AveBedrms</th>\n      <th>AveBedrms_NA</th>\n      <th>Population</th>\n      <th>Population_NA</th>\n      <th>AveOccup</th>\n      <th>AveOccup_NA</th>\n      <th>Latitude</th>\n      <th>Longitude</th>\n    </tr>\n  </thead>\n  <tbody>\n    <tr>\n      <th>0</th>\n      <td>8.0000</td>\n      <td>41.0</td>\n      <td>0.0</td>\n      <td>3.0</td>\n      <td>1.0</td>\n      <td>1.023810</td>\n      <td>0.0</td>\n      <td>500.0</td>\n      <td>0.0</td>\n      <td>2.555556</td>\n      <td>0.0</td>\n      <td>37.88</td>\n      <td>-122.23</td>\n    </tr>\n    <tr>\n      <th>1</th>\n      <td>8.0000</td>\n      <td>30.0</td>\n      <td>0.0</td>\n      <td>3.0</td>\n      <td>1.0</td>\n      <td>0.971880</td>\n      <td>0.0</td>\n      <td>2000.0</td>\n      <td>0.0</td>\n      <td>2.109842</td>\n      <td>0.0</td>\n      <td>37.86</td>\n      <td>-122.22</td>\n    </tr>\n    <tr>\n      <th>2</th>\n      <td>7.2574</td>\n      <td>33.0</td>\n      <td>1.0</td>\n      <td>3.0</td>\n      <td>1.0</td>\n      <td>1.073446</td>\n      <td>0.0</td>\n      <td>500.0</td>\n      <td>0.0</td>\n      <td>2.802260</td>\n      <td>0.0</td>\n      <td>37.85</td>\n      <td>-122.24</td>\n    </tr>\n    <tr>\n      <th>3</th>\n      <td>5.6431</td>\n      <td>33.0</td>\n      <td>1.0</td>\n      <td>3.0</td>\n      <td>1.0</td>\n      <td>1.073059</td>\n      <td>0.0</td>\n      <td>558.0</td>\n      <td>0.0</td>\n      <td>2.547945</td>\n      <td>0.0</td>\n      <td>37.85</td>\n      <td>-122.25</td>\n    </tr>\n    <tr>\n      <th>4</th>\n      <td>4.0000</td>\n      <td>33.0</td>\n      <td>1.0</td>\n      <td>3.0</td>\n      <td>1.0</td>\n      <td>1.081081</td>\n      <td>0.0</td>\n      <td>565.0</td>\n      <td>0.0</td>\n      <td>2.181467</td>\n      <td>0.0</td>\n      <td>37.85</td>\n      <td>-122.25</td>\n    </tr>\n  </tbody>\n</table>\n</div>"
     },
     "metadata": {},
     "execution_count": 29
    }
   ],
   "source": [
    "from transformers.names_from_ColumnTransformer import names_from_ColumnTransformer  \n",
    "\n",
    "X_out_df = pd.DataFrame(X_out,columns=names_from_ColumnTransformer(column_transformer=col_trans))\n",
    "X_out_df.head()\n"
   ]
  },
  {
   "cell_type": "code",
   "execution_count": 257,
   "metadata": {},
   "outputs": [],
   "source": [
    "import types"
   ]
  },
  {
   "cell_type": "code",
   "execution_count": 263,
   "metadata": {},
   "outputs": [],
   "source": [
    "def get_feature_names(self):\n",
    "    return(names_from_ColumnTransformer(column_transformer=self))"
   ]
  },
  {
   "cell_type": "code",
   "execution_count": 264,
   "metadata": {},
   "outputs": [],
   "source": [
    "col_trans.get_feature_names = types.MethodType(get_feature_names, col_trans)"
   ]
  },
  {
   "cell_type": "code",
   "execution_count": 265,
   "metadata": {},
   "outputs": [
    {
     "output_type": "execute_result",
     "data": {
      "text/plain": "['MedInc',\n 'HouseAge',\n 'HouseAge_NA',\n 'AveRooms',\n 'AveRooms_NA',\n 'AveBedrms',\n 'AveBedrms_NA',\n 'Population',\n 'Population_NA',\n 'AveOccup',\n 'AveOccup_NA',\n 'Latitude',\n 'Longitude']"
     },
     "metadata": {},
     "execution_count": 265
    }
   ],
   "source": [
    "col_trans.get_feature_names()"
   ]
  },
  {
   "source": [
    "# Get Column Names"
   ],
   "cell_type": "markdown",
   "metadata": {}
  },
  {
   "cell_type": "code",
   "execution_count": 211,
   "metadata": {},
   "outputs": [],
   "source": [
    "from names_from_ColumnTransformer import names_from_ColumnTransformer"
   ]
  },
  {
   "cell_type": "code",
   "execution_count": 210,
   "metadata": {},
   "outputs": [
    {
     "output_type": "execute_result",
     "data": {
      "text/plain": "<module 'names_from_ColumnTransformer' from 'c:\\\\Users\\\\User\\\\Documents\\\\User\\\\Work\\\\Admiral\\\\Pipeline_Builder\\\\names_from_ColumnTransformer.py'>"
     },
     "metadata": {},
     "execution_count": 210
    }
   ],
   "source": [
    "importlib.reload(sys.modules[names_from_ColumnTransformer.__module__])"
   ]
  },
  {
   "cell_type": "code",
   "execution_count": 212,
   "metadata": {
    "tags": []
   },
   "outputs": [
    {
     "output_type": "execute_result",
     "data": {
      "text/plain": "['MedInc', 'HouseAge_IMP', 'HouseAge_NA']"
     },
     "metadata": {},
     "execution_count": 212
    }
   ],
   "source": [
    "names_from_ColumnTransformer(column_transformer=col_trans)"
   ]
  },
  {
   "cell_type": "code",
   "execution_count": 193,
   "metadata": {},
   "outputs": [
    {
     "output_type": "execute_result",
     "data": {
      "text/plain": "2"
     },
     "metadata": {},
     "execution_count": 193
    }
   ],
   "source": [
    "len(col_trans.named_transformers_[\"HouseAge\"].transformer_list[0])"
   ]
  },
  {
   "source": [
    "# Working Functions"
   ],
   "cell_type": "markdown",
   "metadata": {}
  },
  {
   "source": [
    "control_sheet"
   ],
   "cell_type": "code",
   "metadata": {},
   "execution_count": 54,
   "outputs": [
    {
     "output_type": "execute_result",
     "data": {
      "text/plain": "  FeatureName TransformedName Include Raw Numeric  Numeric_Unk_Max  \\\n0      MedInc          MedInc       Y   Y       Y              9.0   \n1    HouseAge        HouseAge       Y   Y       Y             50.0   \n2    AveRooms        AveRooms       N   Y       Y              NaN   \n3   AveBedrms       AveBedrms       N   Y       Y              NaN   \n4  Population      Population       N   Y       Y              NaN   \n5    AveOccup        AveOccup       N   Y       Y              NaN   \n6    Latitude        Latitude       N   Y       Y              NaN   \n7   Longitude       Longitude       N   Y       Y              NaN   \n\n   Numeric_Cap_Max  Numeric_Cap_Min  Numeric_Unk_Min Missing_Values  \\\n0              8.0              4.0              3.0         -1; -2   \n1             45.0             30.0             20.0            NaN   \n2              NaN              NaN              NaN            NaN   \n3              NaN              NaN              NaN            NaN   \n4              NaN              NaN              NaN            NaN   \n5              NaN              NaN              NaN            NaN   \n6              NaN              NaN              NaN            NaN   \n7              NaN              NaN              NaN            NaN   \n\n  Shadow_Col Impute_Stratergy  Impute_Value  \n0          N           median           NaN  \n1          Y    most_frequent           NaN  \n2        NaN              NaN           NaN  \n3        NaN              NaN           NaN  \n4        NaN              NaN           NaN  \n5        NaN              NaN           NaN  \n6        NaN              NaN           NaN  \n7        NaN              NaN           NaN  ",
      "text/html": "<div>\n<style scoped>\n    .dataframe tbody tr th:only-of-type {\n        vertical-align: middle;\n    }\n\n    .dataframe tbody tr th {\n        vertical-align: top;\n    }\n\n    .dataframe thead th {\n        text-align: right;\n    }\n</style>\n<table border=\"1\" class=\"dataframe\">\n  <thead>\n    <tr style=\"text-align: right;\">\n      <th></th>\n      <th>FeatureName</th>\n      <th>TransformedName</th>\n      <th>Include</th>\n      <th>Raw</th>\n      <th>Numeric</th>\n      <th>Numeric_Unk_Max</th>\n      <th>Numeric_Cap_Max</th>\n      <th>Numeric_Cap_Min</th>\n      <th>Numeric_Unk_Min</th>\n      <th>Missing_Values</th>\n      <th>Shadow_Col</th>\n      <th>Impute_Stratergy</th>\n      <th>Impute_Value</th>\n    </tr>\n  </thead>\n  <tbody>\n    <tr>\n      <th>0</th>\n      <td>MedInc</td>\n      <td>MedInc</td>\n      <td>Y</td>\n      <td>Y</td>\n      <td>Y</td>\n      <td>9.0</td>\n      <td>8.0</td>\n      <td>4.0</td>\n      <td>3.0</td>\n      <td>-1; -2</td>\n      <td>N</td>\n      <td>median</td>\n      <td>NaN</td>\n    </tr>\n    <tr>\n      <th>1</th>\n      <td>HouseAge</td>\n      <td>HouseAge</td>\n      <td>Y</td>\n      <td>Y</td>\n      <td>Y</td>\n      <td>50.0</td>\n      <td>45.0</td>\n      <td>30.0</td>\n      <td>20.0</td>\n      <td>NaN</td>\n      <td>Y</td>\n      <td>most_frequent</td>\n      <td>NaN</td>\n    </tr>\n    <tr>\n      <th>2</th>\n      <td>AveRooms</td>\n      <td>AveRooms</td>\n      <td>N</td>\n      <td>Y</td>\n      <td>Y</td>\n      <td>NaN</td>\n      <td>NaN</td>\n      <td>NaN</td>\n      <td>NaN</td>\n      <td>NaN</td>\n      <td>NaN</td>\n      <td>NaN</td>\n      <td>NaN</td>\n    </tr>\n    <tr>\n      <th>3</th>\n      <td>AveBedrms</td>\n      <td>AveBedrms</td>\n      <td>N</td>\n      <td>Y</td>\n      <td>Y</td>\n      <td>NaN</td>\n      <td>NaN</td>\n      <td>NaN</td>\n      <td>NaN</td>\n      <td>NaN</td>\n      <td>NaN</td>\n      <td>NaN</td>\n      <td>NaN</td>\n    </tr>\n    <tr>\n      <th>4</th>\n      <td>Population</td>\n      <td>Population</td>\n      <td>N</td>\n      <td>Y</td>\n      <td>Y</td>\n      <td>NaN</td>\n      <td>NaN</td>\n      <td>NaN</td>\n      <td>NaN</td>\n      <td>NaN</td>\n      <td>NaN</td>\n      <td>NaN</td>\n      <td>NaN</td>\n    </tr>\n    <tr>\n      <th>5</th>\n      <td>AveOccup</td>\n      <td>AveOccup</td>\n      <td>N</td>\n      <td>Y</td>\n      <td>Y</td>\n      <td>NaN</td>\n      <td>NaN</td>\n      <td>NaN</td>\n      <td>NaN</td>\n      <td>NaN</td>\n      <td>NaN</td>\n      <td>NaN</td>\n      <td>NaN</td>\n    </tr>\n    <tr>\n      <th>6</th>\n      <td>Latitude</td>\n      <td>Latitude</td>\n      <td>N</td>\n      <td>Y</td>\n      <td>Y</td>\n      <td>NaN</td>\n      <td>NaN</td>\n      <td>NaN</td>\n      <td>NaN</td>\n      <td>NaN</td>\n      <td>NaN</td>\n      <td>NaN</td>\n      <td>NaN</td>\n    </tr>\n    <tr>\n      <th>7</th>\n      <td>Longitude</td>\n      <td>Longitude</td>\n      <td>N</td>\n      <td>Y</td>\n      <td>Y</td>\n      <td>NaN</td>\n      <td>NaN</td>\n      <td>NaN</td>\n      <td>NaN</td>\n      <td>NaN</td>\n      <td>NaN</td>\n      <td>NaN</td>\n      <td>NaN</td>\n    </tr>\n  </tbody>\n</table>\n</div>"
     },
     "metadata": {},
     "execution_count": 54
    }
   ]
  },
  {
   "source": [
    "# Categorical Encodings"
   ],
   "cell_type": "code",
   "metadata": {},
   "execution_count": null,
   "outputs": []
  },
  {
   "source": [
    "Here we will build some functions which will be useful for categorical and ordernal factors"
   ],
   "cell_type": "markdown",
   "metadata": {}
  },
  {
   "cell_type": "code",
   "execution_count": 184,
   "metadata": {},
   "outputs": [
    {
     "output_type": "execute_result",
     "data": {
      "text/plain": "     size     fruit  value_int  value_float\n0    tiny   bannana          9          6.0\n1   small  cucumber          6          5.0\n2     big  cucumber          1          3.0\n3     big  cucumber          2          1.0\n4     big  cucumber          5          1.0\n5   small      dill          4          3.0\n6    tiny     apple          7          4.0\n7    huge      dill          5          3.0\n8     big     apple          1          0.9\n9    huge   bannana          9          7.0\n10  small   bannana          9          7.0\n11   huge   bannana          3          5.0\n12   tiny  cucumber          7          3.0\n13  small  cucumber          6          2.0\n14  small     apple          3          6.0\n15   tiny   bannana          5          2.0\n16   huge   bannana          6          5.0\n17  small  cucumber          1          2.0\n18   huge  cucumber          2          6.0\n19   huge  cucumber          5          5.0",
      "text/html": "<div>\n<style scoped>\n    .dataframe tbody tr th:only-of-type {\n        vertical-align: middle;\n    }\n\n    .dataframe tbody tr th {\n        vertical-align: top;\n    }\n\n    .dataframe thead th {\n        text-align: right;\n    }\n</style>\n<table border=\"1\" class=\"dataframe\">\n  <thead>\n    <tr style=\"text-align: right;\">\n      <th></th>\n      <th>size</th>\n      <th>fruit</th>\n      <th>value_int</th>\n      <th>value_float</th>\n    </tr>\n  </thead>\n  <tbody>\n    <tr>\n      <th>0</th>\n      <td>tiny</td>\n      <td>bannana</td>\n      <td>9</td>\n      <td>6.0</td>\n    </tr>\n    <tr>\n      <th>1</th>\n      <td>small</td>\n      <td>cucumber</td>\n      <td>6</td>\n      <td>5.0</td>\n    </tr>\n    <tr>\n      <th>2</th>\n      <td>big</td>\n      <td>cucumber</td>\n      <td>1</td>\n      <td>3.0</td>\n    </tr>\n    <tr>\n      <th>3</th>\n      <td>big</td>\n      <td>cucumber</td>\n      <td>2</td>\n      <td>1.0</td>\n    </tr>\n    <tr>\n      <th>4</th>\n      <td>big</td>\n      <td>cucumber</td>\n      <td>5</td>\n      <td>1.0</td>\n    </tr>\n    <tr>\n      <th>5</th>\n      <td>small</td>\n      <td>dill</td>\n      <td>4</td>\n      <td>3.0</td>\n    </tr>\n    <tr>\n      <th>6</th>\n      <td>tiny</td>\n      <td>apple</td>\n      <td>7</td>\n      <td>4.0</td>\n    </tr>\n    <tr>\n      <th>7</th>\n      <td>huge</td>\n      <td>dill</td>\n      <td>5</td>\n      <td>3.0</td>\n    </tr>\n    <tr>\n      <th>8</th>\n      <td>big</td>\n      <td>apple</td>\n      <td>1</td>\n      <td>0.9</td>\n    </tr>\n    <tr>\n      <th>9</th>\n      <td>huge</td>\n      <td>bannana</td>\n      <td>9</td>\n      <td>7.0</td>\n    </tr>\n    <tr>\n      <th>10</th>\n      <td>small</td>\n      <td>bannana</td>\n      <td>9</td>\n      <td>7.0</td>\n    </tr>\n    <tr>\n      <th>11</th>\n      <td>huge</td>\n      <td>bannana</td>\n      <td>3</td>\n      <td>5.0</td>\n    </tr>\n    <tr>\n      <th>12</th>\n      <td>tiny</td>\n      <td>cucumber</td>\n      <td>7</td>\n      <td>3.0</td>\n    </tr>\n    <tr>\n      <th>13</th>\n      <td>small</td>\n      <td>cucumber</td>\n      <td>6</td>\n      <td>2.0</td>\n    </tr>\n    <tr>\n      <th>14</th>\n      <td>small</td>\n      <td>apple</td>\n      <td>3</td>\n      <td>6.0</td>\n    </tr>\n    <tr>\n      <th>15</th>\n      <td>tiny</td>\n      <td>bannana</td>\n      <td>5</td>\n      <td>2.0</td>\n    </tr>\n    <tr>\n      <th>16</th>\n      <td>huge</td>\n      <td>bannana</td>\n      <td>6</td>\n      <td>5.0</td>\n    </tr>\n    <tr>\n      <th>17</th>\n      <td>small</td>\n      <td>cucumber</td>\n      <td>1</td>\n      <td>2.0</td>\n    </tr>\n    <tr>\n      <th>18</th>\n      <td>huge</td>\n      <td>cucumber</td>\n      <td>2</td>\n      <td>6.0</td>\n    </tr>\n    <tr>\n      <th>19</th>\n      <td>huge</td>\n      <td>cucumber</td>\n      <td>5</td>\n      <td>5.0</td>\n    </tr>\n  </tbody>\n</table>\n</div>"
     },
     "metadata": {},
     "execution_count": 184
    }
   ],
   "source": [
    "cat_df = pd.DataFrame(np.random.choice(np.array([\"huge\", \"big\", \"small\", \"tiny\"]), size=20), columns=[\"size\"])\n",
    "cat_df[\"fruit\"] = np.random.choice(np.array([\"apple\", \"bannana\", \"cucumber\", \"dill\"]), size=20)\n",
    "cat_df[\"value_int\"] = np.random.choice(np.array([1, 2, 3 , 4, 5, 6, 7, 9]), size=20)\n",
    "cat_df[\"value_float\"] = np.random.choice(np.array([1., 2., 3. , 4., 5., 6., 7., 0.9]), size=20)\n",
    "cat_df"
   ]
  },
  {
   "cell_type": "code",
   "execution_count": 189,
   "metadata": {},
   "outputs": [],
   "source": [
    "from sklearn.base import BaseEstimator, TransformerMixin\n",
    "from sklearn.utils.validation import _deprecate_positional_args\n",
    "\n",
    "class CategoricalCatLimit(BaseEstimator, TransformerMixin):\n",
    "\n",
    "    def __init__(self, cat_num=None, other_value=None):\n",
    "        \n",
    "        if cat_num is not None and other_value is not None:\n",
    "            if len(cat_num) != len(other_value):\n",
    "                raise ValueError(\"length of cat_num and other_value must be the same\") \n",
    "\n",
    "        self.cat_num = cat_num\n",
    "        self.other_value = other_value\n",
    "        self.allowed_value = []\n",
    "        \n",
    "\n",
    "    def fit(self, X, y=None):\n",
    "        \n",
    "        X_=X.copy()\n",
    "\n",
    "        # If input is null set to default\n",
    "        if self.cat_num is None:\n",
    "            self.cat_num = [10 for ii in range(0,X_.shape[1])]\n",
    "        else:\n",
    "            if X_.shape[1] != len(self.cat_num):\n",
    "                raise ValueError(\"Number of columns in X must match the length of cat_num\") \n",
    "\n",
    "        # If null start with empty list\n",
    "        if self.other_value is None:\n",
    "            self.other_value = []\n",
    "        else:\n",
    "            if X_.shape[1] != len(self.cat_num):\n",
    "                raise ValueError(\"Number of columns in X must match the length of other_value\")  \n",
    "\n",
    "        for ii in range(0,X_.shape[1]):\n",
    "            unique, counts = np.unique(X_.iloc[:,ii], return_counts=True)\n",
    "            sorted_list = {k: v for k, v in sorted(dict(zip(unique, counts)).items(), key=lambda item: item[1], reverse=True)}\n",
    "\n",
    "            self.allowed_value.append([*sorted_list][0:self.cat_num[ii]])\n",
    "\n",
    "            \n",
    "            if X_.iloc[:,ii].dtype in ['O','S'] and len(self.other_value)<=ii:\n",
    "                self.other_value.append(\"other\")\n",
    "            elif X_.iloc[:,ii].dtype in ['I','F', \"int32\", \"float64\"] and len(self.other_value)<=ii:\n",
    "                self.other_value.append(-1)\n",
    "            elif len(self.other_value)<=ii:\n",
    "                raise ValueError(f\"Data type of {X_.iloc[:,ii].dtype} not know\")\n",
    "\n",
    "    def transform(self, X, y=None):\n",
    "        X_=X.copy()\n",
    "\n",
    "        if isinstance(X, np.ndarray):\n",
    "            for col_ii in range(0,X_.shape[1]): \n",
    "                logic = [v not in self.allowed_value[col_ii] for v in X.iloc[:,col_ii].values]\n",
    "                X_[logic, col_ii] = self.other_value[col_ii]\n",
    "        \n",
    "        elif isinstance(X, pd.DataFrame):\n",
    "\n",
    "            for col_ii in range(0, X_.shape[1]):\n",
    "                logic = [v not in self.allowed_value[col_ii] for v in X.iloc[:,col_ii].values]\n",
    "\n",
    "                X_.iloc[logic, col_ii] = self.other_value[col_ii]\n",
    "\n",
    "        return X_\n",
    "\n",
    "\n"
   ]
  },
  {
   "cell_type": "code",
   "execution_count": 190,
   "metadata": {
    "tags": []
   },
   "outputs": [
    {
     "output_type": "stream",
     "name": "stdout",
     "text": "[['huge', 'small'], ['cucumber', 'bannana', 'apple'], [5, 1, 6, 9], [3.0, 5.0, 2.0, 6.0]]\n"
    },
    {
     "output_type": "execute_result",
     "data": {
      "text/plain": "     size     fruit  value_int  value_float\n0   other   bannana          9          6.0\n1   small  cucumber          6          5.0\n2   other  cucumber          1          3.0\n3   other  cucumber         -1         -1.0\n4   other  cucumber          5         -1.0\n5   small     other         -1          3.0\n6   other     apple         -1         -1.0\n7    huge     other          5          3.0\n8   other     apple          1         -1.0\n9    huge   bannana          9         -1.0\n10  small   bannana          9         -1.0\n11   huge   bannana         -1          5.0\n12  other  cucumber         -1          3.0\n13  small  cucumber          6          2.0\n14  small     apple         -1          6.0\n15  other   bannana          5          2.0\n16   huge   bannana          6          5.0\n17  small  cucumber          1          2.0\n18   huge  cucumber         -1          6.0\n19   huge  cucumber          5          5.0",
      "text/html": "<div>\n<style scoped>\n    .dataframe tbody tr th:only-of-type {\n        vertical-align: middle;\n    }\n\n    .dataframe tbody tr th {\n        vertical-align: top;\n    }\n\n    .dataframe thead th {\n        text-align: right;\n    }\n</style>\n<table border=\"1\" class=\"dataframe\">\n  <thead>\n    <tr style=\"text-align: right;\">\n      <th></th>\n      <th>size</th>\n      <th>fruit</th>\n      <th>value_int</th>\n      <th>value_float</th>\n    </tr>\n  </thead>\n  <tbody>\n    <tr>\n      <th>0</th>\n      <td>other</td>\n      <td>bannana</td>\n      <td>9</td>\n      <td>6.0</td>\n    </tr>\n    <tr>\n      <th>1</th>\n      <td>small</td>\n      <td>cucumber</td>\n      <td>6</td>\n      <td>5.0</td>\n    </tr>\n    <tr>\n      <th>2</th>\n      <td>other</td>\n      <td>cucumber</td>\n      <td>1</td>\n      <td>3.0</td>\n    </tr>\n    <tr>\n      <th>3</th>\n      <td>other</td>\n      <td>cucumber</td>\n      <td>-1</td>\n      <td>-1.0</td>\n    </tr>\n    <tr>\n      <th>4</th>\n      <td>other</td>\n      <td>cucumber</td>\n      <td>5</td>\n      <td>-1.0</td>\n    </tr>\n    <tr>\n      <th>5</th>\n      <td>small</td>\n      <td>other</td>\n      <td>-1</td>\n      <td>3.0</td>\n    </tr>\n    <tr>\n      <th>6</th>\n      <td>other</td>\n      <td>apple</td>\n      <td>-1</td>\n      <td>-1.0</td>\n    </tr>\n    <tr>\n      <th>7</th>\n      <td>huge</td>\n      <td>other</td>\n      <td>5</td>\n      <td>3.0</td>\n    </tr>\n    <tr>\n      <th>8</th>\n      <td>other</td>\n      <td>apple</td>\n      <td>1</td>\n      <td>-1.0</td>\n    </tr>\n    <tr>\n      <th>9</th>\n      <td>huge</td>\n      <td>bannana</td>\n      <td>9</td>\n      <td>-1.0</td>\n    </tr>\n    <tr>\n      <th>10</th>\n      <td>small</td>\n      <td>bannana</td>\n      <td>9</td>\n      <td>-1.0</td>\n    </tr>\n    <tr>\n      <th>11</th>\n      <td>huge</td>\n      <td>bannana</td>\n      <td>-1</td>\n      <td>5.0</td>\n    </tr>\n    <tr>\n      <th>12</th>\n      <td>other</td>\n      <td>cucumber</td>\n      <td>-1</td>\n      <td>3.0</td>\n    </tr>\n    <tr>\n      <th>13</th>\n      <td>small</td>\n      <td>cucumber</td>\n      <td>6</td>\n      <td>2.0</td>\n    </tr>\n    <tr>\n      <th>14</th>\n      <td>small</td>\n      <td>apple</td>\n      <td>-1</td>\n      <td>6.0</td>\n    </tr>\n    <tr>\n      <th>15</th>\n      <td>other</td>\n      <td>bannana</td>\n      <td>5</td>\n      <td>2.0</td>\n    </tr>\n    <tr>\n      <th>16</th>\n      <td>huge</td>\n      <td>bannana</td>\n      <td>6</td>\n      <td>5.0</td>\n    </tr>\n    <tr>\n      <th>17</th>\n      <td>small</td>\n      <td>cucumber</td>\n      <td>1</td>\n      <td>2.0</td>\n    </tr>\n    <tr>\n      <th>18</th>\n      <td>huge</td>\n      <td>cucumber</td>\n      <td>-1</td>\n      <td>6.0</td>\n    </tr>\n    <tr>\n      <th>19</th>\n      <td>huge</td>\n      <td>cucumber</td>\n      <td>5</td>\n      <td>5.0</td>\n    </tr>\n  </tbody>\n</table>\n</div>"
     },
     "metadata": {},
     "execution_count": 190
    }
   ],
   "source": [
    "cat_limit = CategoricalCatLimit(cat_num=[2,3,4,4])\n",
    "cat_limit.fit(cat_df)\n",
    "print(cat_limit.allowed_value)\n",
    "cat_limit.transform(cat_df)"
   ]
  },
  {
   "source": [
    "# Main wrapped up function"
   ],
   "cell_type": "markdown",
   "metadata": {}
  },
  {
   "cell_type": "code",
   "execution_count": 1,
   "metadata": {},
   "outputs": [
    {
     "output_type": "error",
     "ename": "ModuleNotFoundError",
     "evalue": "No module named 'construction'",
     "traceback": [
      "\u001b[1;31m---------------------------------------------------------------------------\u001b[0m",
      "\u001b[1;31mModuleNotFoundError\u001b[0m                       Traceback (most recent call last)",
      "\u001b[1;32m<ipython-input-1-d9b66130a027>\u001b[0m in \u001b[0;36m<module>\u001b[1;34m\u001b[0m\n\u001b[1;32m----> 1\u001b[1;33m \u001b[1;32mfrom\u001b[0m \u001b[0mconstruction\u001b[0m\u001b[1;33m.\u001b[0m\u001b[0mBuildNumericPipeline\u001b[0m \u001b[1;32mimport\u001b[0m \u001b[0mBuildNumericPipeline\u001b[0m\u001b[1;33m\u001b[0m\u001b[1;33m\u001b[0m\u001b[0m\n\u001b[0m",
      "\u001b[1;31mModuleNotFoundError\u001b[0m: No module named 'construction'"
     ]
    }
   ],
   "source": [
    "from construction.BuildNumericPipeline import BuildNumericPipeline"
   ]
  },
  {
   "cell_type": "code",
   "execution_count": 321,
   "metadata": {},
   "outputs": [
    {
     "output_type": "execute_result",
     "data": {
      "text/plain": "<module 'BuildNumericPipeline' from 'c:\\\\Users\\\\User\\\\Documents\\\\User\\\\Work\\\\Admiral\\\\Pipeline_Builder\\\\BuildNumericPipeline.py'>"
     },
     "metadata": {},
     "execution_count": 321
    }
   ],
   "source": [
    "importlib.reload(sys.modules[BuildNumericPipeline.__module__])"
   ]
  },
  {
   "cell_type": "code",
   "execution_count": 322,
   "metadata": {},
   "outputs": [],
   "source": [
    "col_tran_main = BuildNumericPipeline(control_sheet)"
   ]
  },
  {
   "cell_type": "code",
   "execution_count": 331,
   "metadata": {},
   "outputs": [
    {
     "output_type": "execute_result",
     "data": {
      "text/plain": "   MedInc  HouseAge  HouseAge_NA  AveRooms  AveRooms_NA  AveBedrms  \\\n0  8.0000      41.0          0.0       3.0          1.0   1.023810   \n1  8.0000      30.0          0.0       3.0          1.0   0.971880   \n2  7.2574      33.0          1.0       3.0          1.0   1.073446   \n3  5.6431      33.0          1.0       3.0          1.0   1.073059   \n4  4.0000      33.0          1.0       3.0          1.0   1.081081   \n\n   AveBedrms_NA  Population  Population_NA  AveOccup  AveOccup_NA  Latitude  \\\n0           0.0       500.0            0.0  2.555556          0.0     37.88   \n1           0.0      2000.0            0.0  2.109842          0.0     37.86   \n2           0.0       500.0            0.0  2.802260          0.0     37.85   \n3           0.0       558.0            0.0  2.547945          0.0     37.85   \n4           0.0       565.0            0.0  2.181467          0.0     37.85   \n\n   Longitude  \n0    -122.23  \n1    -122.22  \n2    -122.24  \n3    -122.25  \n4    -122.25  ",
      "text/html": "<div>\n<style scoped>\n    .dataframe tbody tr th:only-of-type {\n        vertical-align: middle;\n    }\n\n    .dataframe tbody tr th {\n        vertical-align: top;\n    }\n\n    .dataframe thead th {\n        text-align: right;\n    }\n</style>\n<table border=\"1\" class=\"dataframe\">\n  <thead>\n    <tr style=\"text-align: right;\">\n      <th></th>\n      <th>MedInc</th>\n      <th>HouseAge</th>\n      <th>HouseAge_NA</th>\n      <th>AveRooms</th>\n      <th>AveRooms_NA</th>\n      <th>AveBedrms</th>\n      <th>AveBedrms_NA</th>\n      <th>Population</th>\n      <th>Population_NA</th>\n      <th>AveOccup</th>\n      <th>AveOccup_NA</th>\n      <th>Latitude</th>\n      <th>Longitude</th>\n    </tr>\n  </thead>\n  <tbody>\n    <tr>\n      <th>0</th>\n      <td>8.0000</td>\n      <td>41.0</td>\n      <td>0.0</td>\n      <td>3.0</td>\n      <td>1.0</td>\n      <td>1.023810</td>\n      <td>0.0</td>\n      <td>500.0</td>\n      <td>0.0</td>\n      <td>2.555556</td>\n      <td>0.0</td>\n      <td>37.88</td>\n      <td>-122.23</td>\n    </tr>\n    <tr>\n      <th>1</th>\n      <td>8.0000</td>\n      <td>30.0</td>\n      <td>0.0</td>\n      <td>3.0</td>\n      <td>1.0</td>\n      <td>0.971880</td>\n      <td>0.0</td>\n      <td>2000.0</td>\n      <td>0.0</td>\n      <td>2.109842</td>\n      <td>0.0</td>\n      <td>37.86</td>\n      <td>-122.22</td>\n    </tr>\n    <tr>\n      <th>2</th>\n      <td>7.2574</td>\n      <td>33.0</td>\n      <td>1.0</td>\n      <td>3.0</td>\n      <td>1.0</td>\n      <td>1.073446</td>\n      <td>0.0</td>\n      <td>500.0</td>\n      <td>0.0</td>\n      <td>2.802260</td>\n      <td>0.0</td>\n      <td>37.85</td>\n      <td>-122.24</td>\n    </tr>\n    <tr>\n      <th>3</th>\n      <td>5.6431</td>\n      <td>33.0</td>\n      <td>1.0</td>\n      <td>3.0</td>\n      <td>1.0</td>\n      <td>1.073059</td>\n      <td>0.0</td>\n      <td>558.0</td>\n      <td>0.0</td>\n      <td>2.547945</td>\n      <td>0.0</td>\n      <td>37.85</td>\n      <td>-122.25</td>\n    </tr>\n    <tr>\n      <th>4</th>\n      <td>4.0000</td>\n      <td>33.0</td>\n      <td>1.0</td>\n      <td>3.0</td>\n      <td>1.0</td>\n      <td>1.081081</td>\n      <td>0.0</td>\n      <td>565.0</td>\n      <td>0.0</td>\n      <td>2.181467</td>\n      <td>0.0</td>\n      <td>37.85</td>\n      <td>-122.25</td>\n    </tr>\n  </tbody>\n</table>\n</div>"
     },
     "metadata": {},
     "execution_count": 331
    }
   ],
   "source": [
    "X_out = col_tran_main.fit_transform(X_df)\n",
    "X_df_out = pd.DataFrame(X_out, columns=names_from_ColumnTransformer(col_tran_main))\n",
    "X_df_out.head()"
   ]
  },
  {
   "cell_type": "code",
   "execution_count": 333,
   "metadata": {},
   "outputs": [
    {
     "output_type": "error",
     "ename": "AttributeError",
     "evalue": "Transformer MedInc (type Pipeline) does not provide get_feature_names.",
     "traceback": [
      "\u001b[1;31m---------------------------------------------------------------------------\u001b[0m",
      "\u001b[1;31mAttributeError\u001b[0m                            Traceback (most recent call last)",
      "\u001b[1;32m<ipython-input-333-cbab67d47c1f>\u001b[0m in \u001b[0;36m<module>\u001b[1;34m\u001b[0m\n\u001b[1;32m----> 1\u001b[1;33m \u001b[0mcol_tran_main\u001b[0m\u001b[1;33m.\u001b[0m\u001b[0mget_feature_names\u001b[0m\u001b[1;33m(\u001b[0m\u001b[1;33m)\u001b[0m\u001b[1;33m\u001b[0m\u001b[1;33m\u001b[0m\u001b[0m\n\u001b[0m",
      "\u001b[1;32mC:\\Program Files\\Anaconda3\\lib\\site-packages\\sklearn\\compose\\_column_transformer.py\u001b[0m in \u001b[0;36mget_feature_names\u001b[1;34m(self)\u001b[0m\n\u001b[0;32m    361\u001b[0m                 raise AttributeError(\"Transformer %s (type %s) does not \"\n\u001b[0;32m    362\u001b[0m                                      \u001b[1;34m\"provide get_feature_names.\"\u001b[0m\u001b[1;33m\u001b[0m\u001b[1;33m\u001b[0m\u001b[0m\n\u001b[1;32m--> 363\u001b[1;33m                                      % (str(name), type(trans).__name__))\n\u001b[0m\u001b[0;32m    364\u001b[0m             feature_names.extend([name + \"__\" + f for f in\n\u001b[0;32m    365\u001b[0m                                   trans.get_feature_names()])\n",
      "\u001b[1;31mAttributeError\u001b[0m: Transformer MedInc (type Pipeline) does not provide get_feature_names."
     ]
    }
   ],
   "source": [
    "col_tran_main.get_feature_names()"
   ]
  }
 ]
}